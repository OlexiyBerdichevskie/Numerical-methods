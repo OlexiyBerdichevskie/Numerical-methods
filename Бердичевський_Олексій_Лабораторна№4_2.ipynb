{
  "nbformat": 4,
  "nbformat_minor": 0,
  "metadata": {
    "colab": {
      "provenance": [],
      "include_colab_link": true
    },
    "kernelspec": {
      "name": "python3",
      "display_name": "Python 3"
    },
    "language_info": {
      "name": "python"
    }
  },
  "cells": [
    {
      "cell_type": "markdown",
      "metadata": {
        "id": "view-in-github",
        "colab_type": "text"
      },
      "source": [
        "<a href=\"https://colab.research.google.com/github/OlexiyBerdichevskie/Numerical-methods/blob/main/%D0%91%D0%B5%D1%80%D0%B4%D0%B8%D1%87%D0%B5%D0%B2%D1%81%D1%8C%D0%BA%D0%B8%D0%B9_%D0%9E%D0%BB%D0%B5%D0%BA%D1%81%D1%96%D0%B9_%D0%9B%D0%B0%D0%B1%D0%BE%D1%80%D0%B0%D1%82%D0%BE%D1%80%D0%BD%D0%B0%E2%84%964_2.ipynb\" target=\"_parent\"><img src=\"https://colab.research.google.com/assets/colab-badge.svg\" alt=\"Open In Colab\"/></a>"
      ]
    },
    {
      "cell_type": "markdown",
      "source": [
        "Бердичевьский Олексій Варіант1 Був присутній на парі"
      ],
      "metadata": {
        "id": "Zr_6pdItxmHH"
      }
    },
    {
      "cell_type": "code",
      "execution_count": 1,
      "metadata": {
        "id": "DlhB3T_KwRie"
      },
      "outputs": [],
      "source": [
        "import numpy as np\n",
        "a = np.array([\n",
        "    [14, 4, 6],\n",
        "    [5, -3, 2],\n",
        "    [10, -11, 5],\n",
        "])\n",
        "b = np.array([[30], [15], [36]])"
      ]
    },
    {
      "cell_type": "code",
      "source": [
        "#Матричний метод (1 спосіб)\n",
        "det_a = np.linalg.det(a)\n",
        "if det_a == 0:\n",
        "    print(\"Визначник дорівнює нулю - рішень немає\")\n",
        "else:\n",
        "  a_inv = np.linalg.inv(a)\n",
        "  print(f\"Обернена матриця до матриці A: \\r\\n {a_inv }\")\n",
        "  print(f\"Вектор рішення: \\r\\n {a_inv.dot(b)}\")"
      ],
      "metadata": {
        "colab": {
          "base_uri": "https://localhost:8080/"
        },
        "id": "p6xCePN2waI2",
        "outputId": "6e9dd84f-3631-43cf-e1c1-6002be8c57c5"
      },
      "execution_count": 2,
      "outputs": [
        {
          "output_type": "stream",
          "name": "stdout",
          "text": [
            "Обернена матриця до матриці A: \r\n",
            " [[-0.09722222  1.19444444 -0.36111111]\n",
            " [ 0.06944444 -0.13888889 -0.02777778]\n",
            " [ 0.34722222 -2.69444444  0.86111111]]\n",
            "Вектор рішення: \r\n",
            " [[ 2.]\n",
            " [-1.]\n",
            " [ 1.]]\n"
          ]
        }
      ]
    },
    {
      "cell_type": "code",
      "source": [
        "# Напиши функцію для вирішення системи матричним методом (2 спосіб)\n",
        "def solve_inv_matrix(a, b, verbose=False):\n",
        "    det = np.linalg.det(a)\n",
        "    if verbose: print(f\"Визначник матриці A: {round(det)}\")\n",
        "    if det == 0:\n",
        "        print(\"Визначник дорівнює нулю - рішень немає\")\n",
        "        return None\n",
        "\n",
        "    a_inv= np.linalg.inv(a)\n",
        "    if verbose: print(f\"Обернена матриця до матриці A: \\r\\n {a_inv }\")\n",
        "    return a_inv.dot(b)\n",
        "\n",
        "print(f\"Вектор рішення: \\r\\n {solve_inv_matrix(a, b)}\")"
      ],
      "metadata": {
        "colab": {
          "base_uri": "https://localhost:8080/"
        },
        "id": "vVOGJcfowh1Z",
        "outputId": "01f8bcb0-0979-45be-8b0b-1de12cb5823c"
      },
      "execution_count": 3,
      "outputs": [
        {
          "output_type": "stream",
          "name": "stdout",
          "text": [
            "Вектор рішення: \r\n",
            " [[ 2.]\n",
            " [-1.]\n",
            " [ 1.]]\n"
          ]
        }
      ]
    },
    {
      "cell_type": "code",
      "source": [
        "#метод Крамера (1 спосіб)\n",
        "# Метод Крамера\n",
        "det_a = np.linalg.det(a)\n",
        "\n",
        "if det_a == 0:\n",
        "    print(\"Визначник дорівнює нулю — система не має єдиного розв’язку.\")\n",
        "else:\n",
        "    def replace_column(matrix, column_index, new_column):\n",
        "        new_matrix = np.copy(matrix)\n",
        "        new_matrix[:, column_index] = new_column\n",
        "        return new_matrix\n",
        "\n",
        "    # Обчислюємо Δx, Δy, Δz\n",
        "    delta_x = np.linalg.det(replace_column(a, 0, b.T))\n",
        "    delta_y = np.linalg.det(replace_column(a, 1, b.T))\n",
        "    delta_z = np.linalg.det(replace_column(a, 2, b.T))\n",
        "\n",
        "    # Обчислюємо x, y, z\n",
        "    print('x =', delta_x / det_a)\n",
        "    print('y =', delta_y / det_a)\n",
        "    print('z =', delta_z / det_a)\n",
        "\n"
      ],
      "metadata": {
        "colab": {
          "base_uri": "https://localhost:8080/"
        },
        "id": "tmzA_0CAwmds",
        "outputId": "b183ab6e-dd06-4d84-d11c-c59143fb6ce7"
      },
      "execution_count": 4,
      "outputs": [
        {
          "output_type": "stream",
          "name": "stdout",
          "text": [
            "x = 2.0000000000000018\n",
            "y = -1.0\n",
            "z = 0.9999999999999972\n"
          ]
        }
      ]
    },
    {
      "cell_type": "code",
      "source": [
        "# Напиши функцію для вирішення системи методом Крамера\n",
        "def solve_cramer(a, b, verbose=False):\n",
        "    det = np.linalg.det(a)\n",
        "    if verbose: print(f\"Визначник матриці A: {round(det)}\")\n",
        "    if det == 0:\n",
        "        print(\"Визначник дорівнює нулю - рішень немає\")\n",
        "        return None\n",
        "\n",
        "    len_a = len(a)\n",
        "    x = np.zeros((len_a, 1))\n",
        "    for i in range(len_a):\n",
        "        temp = np.copy(a)\n",
        "        temp[:, [i]] = b\n",
        "        x[i, 0] = np.linalg.det(temp)/det\n",
        "\n",
        "    return x\n",
        "\n",
        "\n",
        "print(f\"Вектор рішення: \\r\\n {solve_cramer(a, b)}\")"
      ],
      "metadata": {
        "colab": {
          "base_uri": "https://localhost:8080/"
        },
        "id": "wrjoJ3pWwptY",
        "outputId": "4bd957e3-a0b2-4a8c-a5cd-e113392aa81c"
      },
      "execution_count": 5,
      "outputs": [
        {
          "output_type": "stream",
          "name": "stdout",
          "text": [
            "Вектор рішення: \r\n",
            " [[ 2.]\n",
            " [-1.]\n",
            " [ 1.]]\n"
          ]
        }
      ]
    },
    {
      "cell_type": "markdown",
      "source": [
        "Перевірка"
      ],
      "metadata": {
        "id": "KLFQe9XLwtrE"
      }
    },
    {
      "cell_type": "code",
      "source": [
        "x = np.linalg.solve(a, b)\n",
        "\n",
        "print(x)"
      ],
      "metadata": {
        "colab": {
          "base_uri": "https://localhost:8080/"
        },
        "id": "H2jnfCBrwwRp",
        "outputId": "e322b0cf-5c5f-4e0b-ffc6-792c0eaf74ab"
      },
      "execution_count": 6,
      "outputs": [
        {
          "output_type": "stream",
          "name": "stdout",
          "text": [
            "[[ 2.]\n",
            " [-1.]\n",
            " [ 1.]]\n"
          ]
        }
      ]
    },
    {
      "cell_type": "code",
      "source": [
        "# Напиши функцію для вирішення системи методом Гауса\n",
        "def solve_gausse(a, b, verbose=False):\n",
        "    det = np.linalg.det(a)\n",
        "    if verbose: print(f\"Визначник матриці A: {round(det)}\")\n",
        "    if det == 0:\n",
        "        print(\"Визначник дорівнює нулю - рішень немає\")\n",
        "        return None\n",
        "    # Reading number of unknowns\n",
        "    n = len(b)\n",
        "    m = np.concatenate([a, b], axis=1, dtype=float)\n",
        "\n",
        "    # Applying Gauss-Jordan Elimination\n",
        "    for i in range(n):\n",
        "\n",
        "        # Swap rows to avoid division by 0\n",
        "        if m[i, i] == 0:\n",
        "            for k in range(i+1, n):\n",
        "                if m[k, k] != 0:\n",
        "                    m[[i, k], :] = m[[k, i], :]\n",
        "                    break\n",
        "\n",
        "\n",
        "        if m[i, i] != 1:\n",
        "            m[i, :] *= 1/m[i, i]\n",
        "\n",
        "        for j in range(n):\n",
        "            if i != j:\n",
        "                ratio = m[j][i]/m[i][i]\n",
        "\n",
        "                m[j, :] = m[j, :] - ratio * m[i, :]\n",
        "\n",
        "    return m[:, [-1]]\n",
        "\n",
        "print(f\"Вектор рішення: \\r\\n {solve_gausse(a, b)}\")"
      ],
      "metadata": {
        "colab": {
          "base_uri": "https://localhost:8080/"
        },
        "id": "0jnvvtjmxJPE",
        "outputId": "4202af54-fa3c-4778-96f6-60a3f3735d43"
      },
      "execution_count": 8,
      "outputs": [
        {
          "output_type": "stream",
          "name": "stdout",
          "text": [
            "Вектор рішення: \r\n",
            " [[ 2.]\n",
            " [-1.]\n",
            " [ 1.]]\n"
          ]
        }
      ]
    }
  ]
}