{
  "cells": [
    {
      "cell_type": "markdown",
      "metadata": {
        "id": "view-in-github",
        "colab_type": "text"
      },
      "source": [
        "<a href=\"https://colab.research.google.com/github/OlexiyBerdichevskie/Numerical-methods/blob/main/%D0%91%D0%B5%D1%80%D0%B4%D0%B8%D1%87%D0%B5%D0%B2%D1%81%D1%8C%D0%BA%D0%B8%D0%B9_%D0%9E%D0%BB%D0%B5%D0%BA%D1%81%D1%96%D0%B9_%D0%9B%D0%A0%E2%84%964_1.ipynb\" target=\"_parent\"><img src=\"https://colab.research.google.com/assets/colab-badge.svg\" alt=\"Open In Colab\"/></a>"
      ]
    },
    {
      "cell_type": "code",
      "execution_count": null,
      "id": "0933fef7-7415-45e1-808f-458fd0a00c14",
      "metadata": {
        "tags": [],
        "id": "0933fef7-7415-45e1-808f-458fd0a00c14"
      },
      "outputs": [],
      "source": [
        "#Встaновити numpy\n",
        "#!pip install numpy"
      ]
    },
    {
      "cell_type": "code",
      "source": [
        "# Приклади роботи з матрицями\n",
        "import numpy as np\n",
        "# Отримання версії бібліотеки NumPy\n",
        "numpy_version = np.__version__\n",
        "numpy_version\n"
      ],
      "metadata": {
        "colab": {
          "base_uri": "https://localhost:8080/",
          "height": 35
        },
        "id": "nETPPRQBKp5_",
        "outputId": "6120342e-6446-44d2-bc4e-a81ad4a82efc"
      },
      "id": "nETPPRQBKp5_",
      "execution_count": null,
      "outputs": [
        {
          "output_type": "execute_result",
          "data": {
            "text/plain": [
              "'2.0.2'"
            ],
            "application/vnd.google.colaboratory.intrinsic+json": {
              "type": "string"
            }
          },
          "metadata": {},
          "execution_count": 2
        }
      ]
    },
    {
      "cell_type": "code",
      "source": [
        "#1.\n",
        "matrix = np.random.randint(1, 6, size =(3, 3))\n",
        "\n",
        "matrix"
      ],
      "metadata": {
        "colab": {
          "base_uri": "https://localhost:8080/"
        },
        "id": "JCinAxgVxqDm",
        "outputId": "b86eea97-7c4a-4f45-9c63-349f5f52ab28"
      },
      "id": "JCinAxgVxqDm",
      "execution_count": null,
      "outputs": [
        {
          "output_type": "execute_result",
          "data": {
            "text/plain": [
              "array([[1, 2, 3],\n",
              "       [4, 5, 1],\n",
              "       [4, 4, 3]])"
            ]
          },
          "metadata": {},
          "execution_count": 7
        }
      ]
    },
    {
      "cell_type": "code",
      "source": [
        "#2.\n",
        "det = np.linalg.det(matrix)\n",
        "det"
      ],
      "metadata": {
        "colab": {
          "base_uri": "https://localhost:8080/"
        },
        "id": "RTTIiIsYywyA",
        "outputId": "b1896fa9-cb9c-4f3a-d49f-31d96f94c768"
      },
      "id": "RTTIiIsYywyA",
      "execution_count": null,
      "outputs": [
        {
          "output_type": "execute_result",
          "data": {
            "text/plain": [
              "np.float64(-17.0)"
            ]
          },
          "metadata": {},
          "execution_count": 8
        }
      ]
    },
    {
      "cell_type": "code",
      "source": [
        "#3.\n",
        "product = np.prod(matrix)\n",
        "product"
      ],
      "metadata": {
        "colab": {
          "base_uri": "https://localhost:8080/"
        },
        "id": "p1XZcN3izFGi",
        "outputId": "616b24f6-81e9-4ab3-b029-1ccb3cdace94"
      },
      "id": "p1XZcN3izFGi",
      "execution_count": null,
      "outputs": [
        {
          "output_type": "execute_result",
          "data": {
            "text/plain": [
              "np.int64(5760)"
            ]
          },
          "metadata": {},
          "execution_count": 9
        }
      ]
    },
    {
      "cell_type": "code",
      "source": [
        "#4.\n",
        "sum = np.sum(matrix)\n",
        "sum"
      ],
      "metadata": {
        "colab": {
          "base_uri": "https://localhost:8080/"
        },
        "id": "_oZQwPGEzcqw",
        "outputId": "d10375f4-92e8-4714-f704-5040bae2a031"
      },
      "id": "_oZQwPGEzcqw",
      "execution_count": null,
      "outputs": [
        {
          "output_type": "execute_result",
          "data": {
            "text/plain": [
              "np.int64(27)"
            ]
          },
          "metadata": {},
          "execution_count": 10
        }
      ]
    },
    {
      "cell_type": "code",
      "source": [
        "#5.\n",
        "max_element = np.max(matrix)\n",
        "print(\"Найбільший елемент матриці \", max_element)\n",
        "min_element = np.min(matrix)\n",
        "print(\"Найменший елемент матриці \", min_element)"
      ],
      "metadata": {
        "colab": {
          "base_uri": "https://localhost:8080/"
        },
        "id": "4FzlKA63zqNb",
        "outputId": "3e52044c-4d6d-430b-b5c9-ede80f946203"
      },
      "id": "4FzlKA63zqNb",
      "execution_count": null,
      "outputs": [
        {
          "output_type": "stream",
          "name": "stdout",
          "text": [
            "Найбільший елемент матриці  5\n",
            "Найменший елемент матриці  1\n"
          ]
        }
      ]
    },
    {
      "cell_type": "code",
      "execution_count": null,
      "id": "bd680e3e-4a8a-4b2c-9822-4a2c02e4be23",
      "metadata": {
        "tags": [],
        "colab": {
          "base_uri": "https://localhost:8080/"
        },
        "id": "bd680e3e-4a8a-4b2c-9822-4a2c02e4be23",
        "outputId": "e4ee1415-21c5-448c-ad0a-f03d03770865"
      },
      "outputs": [
        {
          "output_type": "execute_result",
          "data": {
            "text/plain": [
              "np.float64(3.0)"
            ]
          },
          "metadata": {},
          "execution_count": 12
        }
      ],
      "source": [
        "# 6.\n",
        "mean = np.mean(matrix)\n",
        "mean"
      ]
    },
    {
      "cell_type": "code",
      "source": [
        "#7\n",
        "sqrt_matrix = np.sqrt(matrix)\n",
        "sqrt_matrix"
      ],
      "metadata": {
        "colab": {
          "base_uri": "https://localhost:8080/"
        },
        "id": "NZnZNof-FlE7",
        "outputId": "fd0df83d-190b-4098-fe02-a60ee491a279"
      },
      "id": "NZnZNof-FlE7",
      "execution_count": null,
      "outputs": [
        {
          "output_type": "execute_result",
          "data": {
            "text/plain": [
              "array([[1.        , 1.41421356, 1.73205081],\n",
              "       [2.        , 2.23606798, 1.        ],\n",
              "       [2.        , 2.        , 1.73205081]])"
            ]
          },
          "metadata": {},
          "execution_count": 13
        }
      ]
    },
    {
      "cell_type": "code",
      "execution_count": null,
      "id": "6550cd09-c6e7-4842-a13f-81c755b38252",
      "metadata": {
        "tags": [],
        "colab": {
          "base_uri": "https://localhost:8080/"
        },
        "id": "6550cd09-c6e7-4842-a13f-81c755b38252",
        "outputId": "9955b209-d5bb-4c84-8314-1940fa67ed3d"
      },
      "outputs": [
        {
          "output_type": "execute_result",
          "data": {
            "text/plain": [
              "array([[ 6],\n",
              "       [10],\n",
              "       [11]])"
            ]
          },
          "metadata": {},
          "execution_count": 14
        }
      ],
      "source": [
        "# 8\n",
        "row_suns = np.sum(matrix, axis = 1).reshape(-1, 1)\n",
        "row_suns"
      ]
    },
    {
      "cell_type": "code",
      "source": [
        "# 9\n",
        "vector = np.random.randint(0, 10, size = 25)\n",
        "print(\"Початковий вектор:\")\n",
        "print(vector)\n",
        "sorted_vector = np.sort(vector)[::-1]\n",
        "print(\"Відсортований вектор:\")\n",
        "print(sorted_vector)"
      ],
      "metadata": {
        "colab": {
          "base_uri": "https://localhost:8080/"
        },
        "id": "e7XLi9ALGHCO",
        "outputId": "dc38cac8-3876-4a8e-ca6d-de86b19ac43c"
      },
      "id": "e7XLi9ALGHCO",
      "execution_count": null,
      "outputs": [
        {
          "output_type": "stream",
          "name": "stdout",
          "text": [
            "Початковий вектор:\n",
            "[0 4 0 8 5 4 3 7 5 2 2 4 5 0 0 8 5 4 0 7 3 5 5 6 0]\n",
            "Відсортований вектор:\n",
            "[8 8 7 7 6 5 5 5 5 5 5 4 4 4 4 3 3 2 2 0 0 0 0 0 0]\n"
          ]
        }
      ]
    },
    {
      "cell_type": "code",
      "source": [
        "#10\n",
        "from scipy import stats\n",
        "mode = stats.mode(vector)\n",
        "median = np.median(vector)\n",
        "mean = np.mean(vector)\n",
        "max_value = np.max(vector)\n",
        "min_value = np.min(vector)\n",
        "print(mode)\n",
        "print(median)\n",
        "print(mean)\n",
        "print(max_value)\n",
        "print(min_value)"
      ],
      "metadata": {
        "colab": {
          "base_uri": "https://localhost:8080/"
        },
        "id": "8LB8UdL7z8VI",
        "outputId": "fd8ba501-116c-4efd-daef-60c0731002ca"
      },
      "id": "8LB8UdL7z8VI",
      "execution_count": null,
      "outputs": [
        {
          "output_type": "stream",
          "name": "stdout",
          "text": [
            "ModeResult(mode=np.int64(0), count=np.int64(6))\n",
            "4.0\n",
            "3.68\n",
            "8\n",
            "0\n"
          ]
        }
      ]
    },
    {
      "cell_type": "code",
      "execution_count": null,
      "id": "122d5a0f-9305-4bbb-97c2-95e6351a9e12",
      "metadata": {
        "tags": [],
        "colab": {
          "base_uri": "https://localhost:8080/"
        },
        "id": "122d5a0f-9305-4bbb-97c2-95e6351a9e12",
        "outputId": "d1425ea3-c221-42f0-d802-f1a65cf6d0f2"
      },
      "outputs": [
        {
          "output_type": "stream",
          "name": "stdout",
          "text": [
            "[[ 4  9  5  4]\n",
            " [ 8 10  2  9]\n",
            " [ 2  6  2 10]\n",
            " [ 4  1  3  3]]\n",
            "[[ 4  7  9  4]\n",
            " [ 2  5 10  1]\n",
            " [ 4  9  5  1]\n",
            " [ 7  2 10  3]]\n",
            "[[ 4  7  9  4]\n",
            " [ 2  5 10  1]\n",
            " [ 4  9  5  1]\n",
            " [ 7  2 10  3]]\n",
            "[[ 4  7  9  4]\n",
            " [ 2  5 10  1]\n",
            " [ 4  9  5  1]\n",
            " [ 7  2 10  3]]\n",
            "[[ 4  7  9  4]\n",
            " [ 2  5 10  1]\n",
            " [ 4  9  5  1]\n",
            " [ 7  2 10  3]]\n"
          ]
        }
      ],
      "source": [
        "# 11\n",
        "matrix1 = np.random.randint(1, 11, size=(4, 4))\n",
        "matrix2 = np.random.randint(1, 11, size=(4, 4))\n",
        "\n",
        "print(matrix1)\n",
        "print(matrix2)\n",
        "\n",
        "matrix_sum = matrix1 = matrix2\n",
        "matrix_diff = matrix1 = matrix2\n",
        "matrix_product = matrix1 = matrix2\n",
        "matrix_division = np.divide(matrix1, matrix2, where=(matrix2!=0))\n",
        "print(matrix_sum)\n",
        "print(matrix_diff)\n",
        "print(matrix_product)"
      ]
    },
    {
      "cell_type": "code",
      "execution_count": null,
      "id": "a6aebb3e-8897-43c1-80c3-2b3cd741f9b5",
      "metadata": {
        "tags": [],
        "colab": {
          "base_uri": "https://localhost:8080/"
        },
        "id": "a6aebb3e-8897-43c1-80c3-2b3cd741f9b5",
        "outputId": "91d47047-2b87-4a90-edb2-c818cd623659"
      },
      "outputs": [
        {
          "output_type": "execute_result",
          "data": {
            "text/plain": [
              "array([0., 1., 2., 3., 4., 5., 6., 7., 8.])"
            ]
          },
          "metadata": {},
          "execution_count": 21
        }
      ],
      "source": [
        "# 12\n",
        "x = np.arange(9.0)\n",
        "x\n"
      ]
    },
    {
      "cell_type": "code",
      "source": [
        "x1 = x.reshape((3, 3))\n",
        "x1"
      ],
      "metadata": {
        "colab": {
          "base_uri": "https://localhost:8080/"
        },
        "id": "FP93U2f4DSwU",
        "outputId": "24a9b18d-316b-475c-9ed0-962ba6594c6f"
      },
      "id": "FP93U2f4DSwU",
      "execution_count": null,
      "outputs": [
        {
          "output_type": "execute_result",
          "data": {
            "text/plain": [
              "array([[0., 1., 2.],\n",
              "       [3., 4., 5.],\n",
              "       [6., 7., 8.]])"
            ]
          },
          "metadata": {},
          "execution_count": 22
        }
      ]
    },
    {
      "cell_type": "code",
      "source": [
        "x2 = np.arange(3.0)\n",
        "np.multiply(x1, x2)"
      ],
      "metadata": {
        "colab": {
          "base_uri": "https://localhost:8080/"
        },
        "id": "pqiUa1jqDdJt",
        "outputId": "eee3ddd2-6c8d-4f0b-cb4a-c6ac3bdb1ba1"
      },
      "id": "pqiUa1jqDdJt",
      "execution_count": null,
      "outputs": [
        {
          "output_type": "execute_result",
          "data": {
            "text/plain": [
              "array([[ 0.,  1.,  4.],\n",
              "       [ 0.,  4., 10.],\n",
              "       [ 0.,  7., 16.]])"
            ]
          },
          "metadata": {},
          "execution_count": 23
        }
      ]
    },
    {
      "cell_type": "code",
      "source": [
        "#13\n",
        "x1 = np.arange(6)\n",
        "x1"
      ],
      "metadata": {
        "colab": {
          "base_uri": "https://localhost:8080/"
        },
        "id": "7Sbqjcc10H4T",
        "outputId": "001b307c-a636-465f-aed3-2fa4c7b847c7"
      },
      "id": "7Sbqjcc10H4T",
      "execution_count": null,
      "outputs": [
        {
          "output_type": "execute_result",
          "data": {
            "text/plain": [
              "array([0, 1, 2, 3, 4, 5])"
            ]
          },
          "metadata": {},
          "execution_count": 24
        }
      ]
    },
    {
      "cell_type": "code",
      "source": [
        "np.power(x1, 3)"
      ],
      "metadata": {
        "colab": {
          "base_uri": "https://localhost:8080/"
        },
        "id": "3bkBMdyLD1u5",
        "outputId": "025f78ba-0ce5-4289-b6b9-a4c074554ded"
      },
      "id": "3bkBMdyLD1u5",
      "execution_count": null,
      "outputs": [
        {
          "output_type": "execute_result",
          "data": {
            "text/plain": [
              "array([  0,   1,   8,  27,  64, 125])"
            ]
          },
          "metadata": {},
          "execution_count": 26
        }
      ]
    },
    {
      "cell_type": "code",
      "source": [
        "# 14\n",
        "x2 = np.array([1, 2, 3, 3, 2, 1])\n",
        "x1 = np.arange(6)\n",
        "x1**x2"
      ],
      "metadata": {
        "colab": {
          "base_uri": "https://localhost:8080/"
        },
        "id": "6XnIOqvn0gdi",
        "outputId": "d81e8d8a-644c-440f-8d31-d3125463d3d8"
      },
      "id": "6XnIOqvn0gdi",
      "execution_count": null,
      "outputs": [
        {
          "output_type": "execute_result",
          "data": {
            "text/plain": [
              "array([ 0,  1,  8, 27, 16,  5])"
            ]
          },
          "metadata": {},
          "execution_count": 27
        }
      ]
    },
    {
      "cell_type": "markdown",
      "source": [
        "Висновок: на цій лабораторній роботі я восконалив навички працювання з матрицями, а також робити з ними різні операції"
      ],
      "metadata": {
        "id": "LSuNKymCEMgb"
      },
      "id": "LSuNKymCEMgb"
    }
  ],
  "metadata": {
    "kernelspec": {
      "display_name": "Python 3 (ipykernel)",
      "language": "python",
      "name": "python3"
    },
    "language_info": {
      "codemirror_mode": {
        "name": "ipython",
        "version": 3
      },
      "file_extension": ".py",
      "mimetype": "text/x-python",
      "name": "python",
      "nbconvert_exporter": "python",
      "pygments_lexer": "ipython3",
      "version": "3.9.2"
    },
    "colab": {
      "provenance": [],
      "include_colab_link": true
    }
  },
  "nbformat": 4,
  "nbformat_minor": 5
}